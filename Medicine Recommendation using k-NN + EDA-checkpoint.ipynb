{
 "cells": [
  {
   "cell_type": "code",
   "execution_count": 1,
   "id": "a0499940-765d-40a2-8022-e18d2e0b93aa",
   "metadata": {},
   "outputs": [],
   "source": [
    "import numpy as np\n",
    "import pandas as pd\n",
    "import matplotlib.pyplot as plt\n",
    "import seaborn as sns\n",
    "from sklearn.model_selection import train_test_split, cross_val_score\n",
    "from sklearn.preprocessing import StandardScaler, LabelEncoder, OneHotEncoder\n",
    "from sklearn.metrics import accuracy_score,confusion_matrix,classification_report,precision_score,recall_score,f1_score"
   ]
  },
  {
   "cell_type": "code",
   "execution_count": 2,
   "id": "915e0075-7b6b-4b39-9b23-fc49609a2865",
   "metadata": {},
   "outputs": [
    {
     "data": {
      "text/html": [
       "<div>\n",
       "<style scoped>\n",
       "    .dataframe tbody tr th:only-of-type {\n",
       "        vertical-align: middle;\n",
       "    }\n",
       "\n",
       "    .dataframe tbody tr th {\n",
       "        vertical-align: top;\n",
       "    }\n",
       "\n",
       "    .dataframe thead th {\n",
       "        text-align: right;\n",
       "    }\n",
       "</style>\n",
       "<table border=\"1\" class=\"dataframe\">\n",
       "  <thead>\n",
       "    <tr style=\"text-align: right;\">\n",
       "      <th></th>\n",
       "      <th>Name</th>\n",
       "      <th>Category</th>\n",
       "      <th>Dosage Form</th>\n",
       "      <th>Strength</th>\n",
       "      <th>Manufacturer</th>\n",
       "      <th>Indication</th>\n",
       "      <th>Classification</th>\n",
       "    </tr>\n",
       "  </thead>\n",
       "  <tbody>\n",
       "    <tr>\n",
       "      <th>0</th>\n",
       "      <td>Acetocillin</td>\n",
       "      <td>Antidiabetic</td>\n",
       "      <td>Cream</td>\n",
       "      <td>938 mg</td>\n",
       "      <td>Roche Holding AG</td>\n",
       "      <td>Virus</td>\n",
       "      <td>Over-the-Counter</td>\n",
       "    </tr>\n",
       "    <tr>\n",
       "      <th>1</th>\n",
       "      <td>Ibuprocillin</td>\n",
       "      <td>Antiviral</td>\n",
       "      <td>Injection</td>\n",
       "      <td>337 mg</td>\n",
       "      <td>CSL Limited</td>\n",
       "      <td>Infection</td>\n",
       "      <td>Over-the-Counter</td>\n",
       "    </tr>\n",
       "    <tr>\n",
       "      <th>2</th>\n",
       "      <td>Dextrophen</td>\n",
       "      <td>Antibiotic</td>\n",
       "      <td>Ointment</td>\n",
       "      <td>333 mg</td>\n",
       "      <td>Johnson &amp; Johnson</td>\n",
       "      <td>Wound</td>\n",
       "      <td>Prescription</td>\n",
       "    </tr>\n",
       "    <tr>\n",
       "      <th>3</th>\n",
       "      <td>Clarinazole</td>\n",
       "      <td>Antifungal</td>\n",
       "      <td>Syrup</td>\n",
       "      <td>362 mg</td>\n",
       "      <td>AbbVie Inc.</td>\n",
       "      <td>Pain</td>\n",
       "      <td>Prescription</td>\n",
       "    </tr>\n",
       "    <tr>\n",
       "      <th>4</th>\n",
       "      <td>Amoxicillin</td>\n",
       "      <td>Antifungal</td>\n",
       "      <td>Tablet</td>\n",
       "      <td>802 mg</td>\n",
       "      <td>Teva Pharmaceutical Industries Ltd.</td>\n",
       "      <td>Wound</td>\n",
       "      <td>Over-the-Counter</td>\n",
       "    </tr>\n",
       "  </tbody>\n",
       "</table>\n",
       "</div>"
      ],
      "text/plain": [
       "           Name      Category Dosage Form Strength  \\\n",
       "0   Acetocillin  Antidiabetic       Cream   938 mg   \n",
       "1  Ibuprocillin     Antiviral   Injection   337 mg   \n",
       "2    Dextrophen    Antibiotic    Ointment   333 mg   \n",
       "3   Clarinazole    Antifungal       Syrup   362 mg   \n",
       "4   Amoxicillin    Antifungal      Tablet   802 mg   \n",
       "\n",
       "                          Manufacturer Indication    Classification  \n",
       "0                     Roche Holding AG      Virus  Over-the-Counter  \n",
       "1                          CSL Limited  Infection  Over-the-Counter  \n",
       "2                    Johnson & Johnson      Wound      Prescription  \n",
       "3                          AbbVie Inc.       Pain      Prescription  \n",
       "4  Teva Pharmaceutical Industries Ltd.      Wound  Over-the-Counter  "
      ]
     },
     "execution_count": 2,
     "metadata": {},
     "output_type": "execute_result"
    }
   ],
   "source": [
    "df = pd.read_csv(r'C:\\Users\\richi\\OneDrive\\Desktop\\medicine_dataset.csv')\n",
    "df.head()"
   ]
  },
  {
   "cell_type": "code",
   "execution_count": 3,
   "id": "d5720c24-3523-48d0-bb5f-e29ba65f97b2",
   "metadata": {},
   "outputs": [
    {
     "data": {
      "text/plain": [
       "(50000, 7)"
      ]
     },
     "execution_count": 3,
     "metadata": {},
     "output_type": "execute_result"
    }
   ],
   "source": [
    "df.shape"
   ]
  },
  {
   "cell_type": "code",
   "execution_count": 4,
   "id": "cfb7453d-2ff7-4a26-943d-3502be17f468",
   "metadata": {},
   "outputs": [
    {
     "name": "stdout",
     "output_type": "stream",
     "text": [
      "<class 'pandas.core.frame.DataFrame'>\n",
      "RangeIndex: 50000 entries, 0 to 49999\n",
      "Data columns (total 7 columns):\n",
      " #   Column          Non-Null Count  Dtype \n",
      "---  ------          --------------  ----- \n",
      " 0   Name            50000 non-null  object\n",
      " 1   Category        50000 non-null  object\n",
      " 2   Dosage Form     50000 non-null  object\n",
      " 3   Strength        50000 non-null  object\n",
      " 4   Manufacturer    50000 non-null  object\n",
      " 5   Indication      50000 non-null  object\n",
      " 6   Classification  50000 non-null  object\n",
      "dtypes: object(7)\n",
      "memory usage: 2.7+ MB\n"
     ]
    }
   ],
   "source": [
    "df.info()"
   ]
  },
  {
   "cell_type": "code",
   "execution_count": 5,
   "id": "77c0af06-07a3-4414-9fb8-c510f16cfa29",
   "metadata": {},
   "outputs": [
    {
     "data": {
      "text/plain": [
       "0"
      ]
     },
     "execution_count": 5,
     "metadata": {},
     "output_type": "execute_result"
    }
   ],
   "source": [
    "df.duplicated().sum()"
   ]
  },
  {
   "cell_type": "code",
   "execution_count": 6,
   "id": "43b0d551-cab7-47d1-bb3d-6826277de4f0",
   "metadata": {},
   "outputs": [
    {
     "data": {
      "text/plain": [
       "array(['Acetocillin', 'Ibuprocillin', 'Dextrophen', 'Clarinazole',\n",
       "       'Amoxicillin', 'Ibupromycin', 'Metovir', 'Ibuprovir', 'Cefcillin',\n",
       "       'Acetomycin', 'Acetonazole', 'Dolocillin', 'Cefmet', 'Dolophen',\n",
       "       'Ibupronazole', 'Amoxiprofen', 'Amoxistatin', 'Dextrocillin',\n",
       "       'Clariphen', 'Dolomet', 'Acetoprofen', 'Amoximet', 'Doloprofen',\n",
       "       'Clariprofen', 'Metocillin', 'Cefstatin', 'Metomycin',\n",
       "       'Metoprofen', 'Clarivir', 'Ibuproprofen', 'Cefprofen',\n",
       "       'Dextromycin', 'Acetophen', 'Dextrostatin', 'Metophen', 'Amoxivir',\n",
       "       'Cefnazole', 'Acetovir', 'Amoxinazole', 'Dextromet', 'Clarimycin',\n",
       "       'Acetostatin', 'Ibuprophen', 'Clarimet', 'Acetomet', 'Claricillin',\n",
       "       'Cefphen', 'Metostatin', 'Dextronazole', 'Dolonazole',\n",
       "       'Claristatin', 'Amoximycin', 'Dolomycin', 'Metonazole', 'Metomet',\n",
       "       'Dextrovir', 'Ibuprostatin', 'Dolovir', 'Cefmycin', 'Amoxiphen',\n",
       "       'Cefvir', 'Dextroprofen', 'Dolostatin', 'Ibupromet'], dtype=object)"
      ]
     },
     "execution_count": 6,
     "metadata": {},
     "output_type": "execute_result"
    }
   ],
   "source": [
    "df['Name'].unique()"
   ]
  },
  {
   "cell_type": "code",
   "execution_count": 7,
   "id": "30a998ef-3a6e-4906-aeb8-9ae7bc229a4a",
   "metadata": {},
   "outputs": [
    {
     "data": {
      "text/plain": [
       "array(['Antidiabetic', 'Antiviral', 'Antibiotic', 'Antifungal',\n",
       "       'Antipyretic', 'Antidepressant', 'Analgesic', 'Antiseptic'],\n",
       "      dtype=object)"
      ]
     },
     "execution_count": 7,
     "metadata": {},
     "output_type": "execute_result"
    }
   ],
   "source": [
    "df['Category'].unique()"
   ]
  },
  {
   "cell_type": "code",
   "execution_count": 8,
   "id": "47e702a3-252b-484d-9cfd-87f10aff6390",
   "metadata": {},
   "outputs": [
    {
     "data": {
      "text/plain": [
       "array(['Cream', 'Injection', 'Ointment', 'Syrup', 'Tablet', 'Inhaler',\n",
       "       'Capsule', 'Drops'], dtype=object)"
      ]
     },
     "execution_count": 8,
     "metadata": {},
     "output_type": "execute_result"
    }
   ],
   "source": [
    "df['Dosage Form'].unique()"
   ]
  },
  {
   "cell_type": "code",
   "execution_count": 9,
   "id": "5957ad88-8e83-4f45-a23c-840da25e356c",
   "metadata": {},
   "outputs": [
    {
     "data": {
      "text/html": [
       "<div>\n",
       "<style scoped>\n",
       "    .dataframe tbody tr th:only-of-type {\n",
       "        vertical-align: middle;\n",
       "    }\n",
       "\n",
       "    .dataframe tbody tr th {\n",
       "        vertical-align: top;\n",
       "    }\n",
       "\n",
       "    .dataframe thead th {\n",
       "        text-align: right;\n",
       "    }\n",
       "</style>\n",
       "<table border=\"1\" class=\"dataframe\">\n",
       "  <thead>\n",
       "    <tr style=\"text-align: right;\">\n",
       "      <th></th>\n",
       "      <th>Name</th>\n",
       "      <th>Category</th>\n",
       "      <th>Dosage Form</th>\n",
       "      <th>Strength</th>\n",
       "      <th>Manufacturer</th>\n",
       "      <th>Indication</th>\n",
       "      <th>Classification</th>\n",
       "    </tr>\n",
       "  </thead>\n",
       "  <tbody>\n",
       "    <tr>\n",
       "      <th>0</th>\n",
       "      <td>Acetocillin</td>\n",
       "      <td>Antidiabetic</td>\n",
       "      <td>Cream</td>\n",
       "      <td>938</td>\n",
       "      <td>Roche Holding AG</td>\n",
       "      <td>Virus</td>\n",
       "      <td>Over-the-Counter</td>\n",
       "    </tr>\n",
       "    <tr>\n",
       "      <th>1</th>\n",
       "      <td>Ibuprocillin</td>\n",
       "      <td>Antiviral</td>\n",
       "      <td>Injection</td>\n",
       "      <td>337</td>\n",
       "      <td>CSL Limited</td>\n",
       "      <td>Infection</td>\n",
       "      <td>Over-the-Counter</td>\n",
       "    </tr>\n",
       "    <tr>\n",
       "      <th>2</th>\n",
       "      <td>Dextrophen</td>\n",
       "      <td>Antibiotic</td>\n",
       "      <td>Ointment</td>\n",
       "      <td>333</td>\n",
       "      <td>Johnson &amp; Johnson</td>\n",
       "      <td>Wound</td>\n",
       "      <td>Prescription</td>\n",
       "    </tr>\n",
       "    <tr>\n",
       "      <th>3</th>\n",
       "      <td>Clarinazole</td>\n",
       "      <td>Antifungal</td>\n",
       "      <td>Syrup</td>\n",
       "      <td>362</td>\n",
       "      <td>AbbVie Inc.</td>\n",
       "      <td>Pain</td>\n",
       "      <td>Prescription</td>\n",
       "    </tr>\n",
       "    <tr>\n",
       "      <th>4</th>\n",
       "      <td>Amoxicillin</td>\n",
       "      <td>Antifungal</td>\n",
       "      <td>Tablet</td>\n",
       "      <td>802</td>\n",
       "      <td>Teva Pharmaceutical Industries Ltd.</td>\n",
       "      <td>Wound</td>\n",
       "      <td>Over-the-Counter</td>\n",
       "    </tr>\n",
       "    <tr>\n",
       "      <th>...</th>\n",
       "      <td>...</td>\n",
       "      <td>...</td>\n",
       "      <td>...</td>\n",
       "      <td>...</td>\n",
       "      <td>...</td>\n",
       "      <td>...</td>\n",
       "      <td>...</td>\n",
       "    </tr>\n",
       "    <tr>\n",
       "      <th>49995</th>\n",
       "      <td>Dextronazole</td>\n",
       "      <td>Analgesic</td>\n",
       "      <td>Ointment</td>\n",
       "      <td>405</td>\n",
       "      <td>Eli Lilly and Company</td>\n",
       "      <td>Pain</td>\n",
       "      <td>Over-the-Counter</td>\n",
       "    </tr>\n",
       "    <tr>\n",
       "      <th>49996</th>\n",
       "      <td>Ibuprophen</td>\n",
       "      <td>Antiseptic</td>\n",
       "      <td>Tablet</td>\n",
       "      <td>633</td>\n",
       "      <td>CSL Limited</td>\n",
       "      <td>Pain</td>\n",
       "      <td>Prescription</td>\n",
       "    </tr>\n",
       "    <tr>\n",
       "      <th>49997</th>\n",
       "      <td>Dextrovir</td>\n",
       "      <td>Antibiotic</td>\n",
       "      <td>Injection</td>\n",
       "      <td>327</td>\n",
       "      <td>Gilead Sciences, Inc.</td>\n",
       "      <td>Fever</td>\n",
       "      <td>Over-the-Counter</td>\n",
       "    </tr>\n",
       "    <tr>\n",
       "      <th>49998</th>\n",
       "      <td>Dextrostatin</td>\n",
       "      <td>Antibiotic</td>\n",
       "      <td>Inhaler</td>\n",
       "      <td>885</td>\n",
       "      <td>AbbVie Inc.</td>\n",
       "      <td>Wound</td>\n",
       "      <td>Over-the-Counter</td>\n",
       "    </tr>\n",
       "    <tr>\n",
       "      <th>49999</th>\n",
       "      <td>Dolomet</td>\n",
       "      <td>Antipyretic</td>\n",
       "      <td>Ointment</td>\n",
       "      <td>426</td>\n",
       "      <td>Teva Pharmaceutical Industries Ltd.</td>\n",
       "      <td>Fever</td>\n",
       "      <td>Over-the-Counter</td>\n",
       "    </tr>\n",
       "  </tbody>\n",
       "</table>\n",
       "<p>50000 rows × 7 columns</p>\n",
       "</div>"
      ],
      "text/plain": [
       "               Name      Category Dosage Form  Strength  \\\n",
       "0       Acetocillin  Antidiabetic       Cream       938   \n",
       "1      Ibuprocillin     Antiviral   Injection       337   \n",
       "2        Dextrophen    Antibiotic    Ointment       333   \n",
       "3       Clarinazole    Antifungal       Syrup       362   \n",
       "4       Amoxicillin    Antifungal      Tablet       802   \n",
       "...             ...           ...         ...       ...   \n",
       "49995  Dextronazole     Analgesic    Ointment       405   \n",
       "49996    Ibuprophen    Antiseptic      Tablet       633   \n",
       "49997     Dextrovir    Antibiotic   Injection       327   \n",
       "49998  Dextrostatin    Antibiotic     Inhaler       885   \n",
       "49999       Dolomet   Antipyretic    Ointment       426   \n",
       "\n",
       "                              Manufacturer Indication    Classification  \n",
       "0                         Roche Holding AG      Virus  Over-the-Counter  \n",
       "1                              CSL Limited  Infection  Over-the-Counter  \n",
       "2                        Johnson & Johnson      Wound      Prescription  \n",
       "3                              AbbVie Inc.       Pain      Prescription  \n",
       "4      Teva Pharmaceutical Industries Ltd.      Wound  Over-the-Counter  \n",
       "...                                    ...        ...               ...  \n",
       "49995                Eli Lilly and Company       Pain  Over-the-Counter  \n",
       "49996                          CSL Limited       Pain      Prescription  \n",
       "49997                Gilead Sciences, Inc.      Fever  Over-the-Counter  \n",
       "49998                          AbbVie Inc.      Wound  Over-the-Counter  \n",
       "49999  Teva Pharmaceutical Industries Ltd.      Fever  Over-the-Counter  \n",
       "\n",
       "[50000 rows x 7 columns]"
      ]
     },
     "execution_count": 9,
     "metadata": {},
     "output_type": "execute_result"
    }
   ],
   "source": [
    "df['Strength'] = df['Strength'].apply(lambda s: s.split()[0])\n",
    "df['Strength'] = pd.to_numeric(df['Strength'],\n",
    "                                   errors='coerce',\n",
    "                                   downcast='integer')\n",
    "df"
   ]
  },
  {
   "cell_type": "code",
   "execution_count": 10,
   "id": "e70d579e-a2af-408d-a679-cc3a6ad2807f",
   "metadata": {},
   "outputs": [
    {
     "name": "stdout",
     "output_type": "stream",
     "text": [
      "<class 'pandas.core.frame.DataFrame'>\n",
      "RangeIndex: 50000 entries, 0 to 49999\n",
      "Data columns (total 7 columns):\n",
      " #   Column          Non-Null Count  Dtype \n",
      "---  ------          --------------  ----- \n",
      " 0   Name            50000 non-null  object\n",
      " 1   Category        50000 non-null  object\n",
      " 2   Dosage Form     50000 non-null  object\n",
      " 3   Strength        50000 non-null  int16 \n",
      " 4   Manufacturer    50000 non-null  object\n",
      " 5   Indication      50000 non-null  object\n",
      " 6   Classification  50000 non-null  object\n",
      "dtypes: int16(1), object(6)\n",
      "memory usage: 2.4+ MB\n"
     ]
    }
   ],
   "source": [
    "df.info()"
   ]
  },
  {
   "cell_type": "code",
   "execution_count": 11,
   "id": "a87d6ce5-cc81-43ea-b410-a5ad957ae533",
   "metadata": {},
   "outputs": [
    {
     "data": {
      "text/plain": [
       "array(['Roche Holding AG', 'CSL Limited', 'Johnson & Johnson',\n",
       "       'AbbVie Inc.', 'Teva Pharmaceutical Industries Ltd.',\n",
       "       'Takeda Pharmaceutical Company Limited', 'Eli Lilly and Company',\n",
       "       'Novo Nordisk A/S', 'Bayer AG', 'AstraZeneca plc', 'Novartis AG',\n",
       "       'Sanofi S.A.', 'Merck & Co., Inc.', 'GlaxoSmithKline plc',\n",
       "       'Bristol-Myers Squibb Company', 'Amgen Inc.',\n",
       "       'Gilead Sciences, Inc.', 'Boehringer Ingelheim GmbH',\n",
       "       'Pfizer Inc.', 'Biogen Inc.'], dtype=object)"
      ]
     },
     "execution_count": 11,
     "metadata": {},
     "output_type": "execute_result"
    }
   ],
   "source": [
    "df['Manufacturer'].unique()"
   ]
  },
  {
   "cell_type": "code",
   "execution_count": 12,
   "id": "c62a7315-af77-49be-897c-c4bbd3085493",
   "metadata": {},
   "outputs": [
    {
     "data": {
      "text/plain": [
       "array(['Virus', 'Infection', 'Wound', 'Pain', 'Fungus', 'Diabetes',\n",
       "       'Depression', 'Fever'], dtype=object)"
      ]
     },
     "execution_count": 12,
     "metadata": {},
     "output_type": "execute_result"
    }
   ],
   "source": [
    "df['Indication'].unique()"
   ]
  },
  {
   "cell_type": "code",
   "execution_count": 13,
   "id": "56e57def-028e-406a-b158-6f5a2a188383",
   "metadata": {},
   "outputs": [
    {
     "data": {
      "text/plain": [
       "Name              0\n",
       "Category          0\n",
       "Dosage Form       0\n",
       "Strength          0\n",
       "Manufacturer      0\n",
       "Indication        0\n",
       "Classification    0\n",
       "dtype: int64"
      ]
     },
     "execution_count": 13,
     "metadata": {},
     "output_type": "execute_result"
    }
   ],
   "source": [
    "df.isnull().sum()"
   ]
  },
  {
   "cell_type": "code",
   "execution_count": 14,
   "id": "9e78d03f-bf21-48dd-8db5-9786b41ffcdf",
   "metadata": {},
   "outputs": [
    {
     "data": {
      "text/plain": [
       "Category\n",
       "Antidepressant    6354\n",
       "Analgesic         6340\n",
       "Antiseptic        6315\n",
       "Antifungal        6289\n",
       "Antipyretic       6280\n",
       "Antiviral         6185\n",
       "Antidiabetic      6171\n",
       "Antibiotic        6066\n",
       "Name: count, dtype: int64"
      ]
     },
     "execution_count": 14,
     "metadata": {},
     "output_type": "execute_result"
    }
   ],
   "source": [
    "df['Category'].value_counts()"
   ]
  },
  {
   "cell_type": "code",
   "execution_count": 15,
   "id": "21849358-5bd6-4d85-9b0b-3ce9180a6657",
   "metadata": {},
   "outputs": [
    {
     "data": {
      "image/png": "[encoded data removed]",
      "text/plain": [
       "<Figure size 1000x500 with 1 Axes>"
      ]
     },
     "metadata": {},
     "output_type": "display_data"
    }
   ],
   "source": [
    "plt.figure(figsize=(10,5))\n",
    "sns.countplot(data = df , x = 'Category')\n",
    "plt.title('category counts')\n",
    "plt.show()"
   ]
  },
  {
   "cell_type": "code",
   "execution_count": 16,
   "id": "4d5c71b1-0a36-4585-a8f1-c62e05378e6f",
   "metadata": {},
   "outputs": [
    {
     "data": {
      "text/plain": [
       "Dosage Form\n",
       "Inhaler      6364\n",
       "Ointment     6284\n",
       "Capsule      6271\n",
       "Injection    6258\n",
       "Drops        6236\n",
       "Tablet       6234\n",
       "Syrup        6195\n",
       "Cream        6158\n",
       "Name: count, dtype: int64"
      ]
     },
     "execution_count": 16,
     "metadata": {},
     "output_type": "execute_result"
    }
   ],
   "source": [
    "df['Dosage Form'].value_counts()"
   ]
  },
  {
   "cell_type": "code",
   "execution_count": 17,
   "id": "c99bb916-b3a4-46fc-a152-f29960505cbd",
   "metadata": {},
   "outputs": [
    {
     "data": {
      "image/png": "[encoded data removed]",
      "text/plain": [
       "<Figure size 1000x500 with 1 Axes>"
      ]
     },
     "metadata": {},
     "output_type": "display_data"
    }
   ],
   "source": [
    "plt.figure(figsize=(10,5))\n",
    "sns.countplot(data = df , x = 'Dosage Form')\n",
    "plt.title('Dosage Form counts')\n",
    "plt.show()"
   ]
  },
  {
   "cell_type": "code",
   "execution_count": 18,
   "id": "9020a03b-bcda-4fd5-8030-a873a269181c",
   "metadata": {},
   "outputs": [
    {
     "data": {
      "text/plain": [
       "Indication\n",
       "Infection     6393\n",
       "Fungus        6294\n",
       "Virus         6292\n",
       "Wound         6268\n",
       "Fever         6246\n",
       "Depression    6173\n",
       "Diabetes      6171\n",
       "Pain          6163\n",
       "Name: count, dtype: int64"
      ]
     },
     "execution_count": 18,
     "metadata": {},
     "output_type": "execute_result"
    }
   ],
   "source": [
    "df['Indication'].value_counts()"
   ]
  },
  {
   "cell_type": "code",
   "execution_count": 19,
   "id": "a32c8566-4dc5-42b4-a9d1-c6bf6787f77f",
   "metadata": {},
   "outputs": [
    {
     "data": {
      "image/png": "[encoded data removed]",
      "text/plain": [
       "<Figure size 1000x500 with 1 Axes>"
      ]
     },
     "metadata": {},
     "output_type": "display_data"
    }
   ],
   "source": [
    "plt.figure(figsize=(10,5))\n",
    "sns.countplot(data = df , x = 'Indication')\n",
    "plt.title('Indication counts')\n",
    "plt.show()"
   ]
  },
  {
   "cell_type": "code",
   "execution_count": 20,
   "id": "d7cd3836-8aec-4b7f-bb73-159aeef6a0e5",
   "metadata": {},
   "outputs": [
    {
     "data": {
      "text/plain": [
       "Classification\n",
       "Over-the-Counter    25015\n",
       "Prescription        24985\n",
       "Name: count, dtype: int64"
      ]
     },
     "execution_count": 20,
     "metadata": {},
     "output_type": "execute_result"
    }
   ],
   "source": [
    "df['Classification'].value_counts()"
   ]
  },
  {
   "cell_type": "code",
   "execution_count": 21,
   "id": "5c8658de-704d-4f58-bf95-4cc8cbc70eae",
   "metadata": {},
   "outputs": [
    {
     "data": {
      "image/png": "[encoded data removed]",
      "text/plain": [
       "<Figure size 1000x500 with 1 Axes>"
      ]
     },
     "metadata": {},
     "output_type": "display_data"
    }
   ],
   "source": [
    "plt.figure(figsize=(10,5))\n",
    "sns.countplot(data = df , x = 'Classification')\n",
    "plt.title('Classification counts')\n",
    "plt.show()"
   ]
  },
  {
   "cell_type": "code",
   "execution_count": 22,
   "id": "0622ffc4-f55a-42f6-aed6-9e84fe73762d",
   "metadata": {},
   "outputs": [
    {
     "name": "stderr",
     "output_type": "stream",
     "text": [
      "C:\\Users\\richi\\anaconda3\\Lib\\site-packages\\seaborn\\_oldcore.py:1119: FutureWarning: use_inf_as_na option is deprecated and will be removed in a future version. Convert inf values to NaN before operating instead.\n",
      "  with pd.option_context('mode.use_inf_as_na', True):\n"
     ]
    },
    {
     "data": {
      "image/png": "[encoded data removed]",
      "text/plain": [
       "<Figure size 1000x500 with 1 Axes>"
      ]
     },
     "metadata": {},
     "output_type": "display_data"
    }
   ],
   "source": [
    "plt.figure(figsize=(10,5))\n",
    "sns.histplot(data = df, x = 'Strength', kde = True)\n",
    "plt.title('distribution of strength')\n",
    "plt.show()"
   ]
  },
  {
   "cell_type": "code",
   "execution_count": 23,
   "id": "8b3dec71-c294-46a5-91c9-1c3ad79225e0",
   "metadata": {},
   "outputs": [
    {
     "data": {
      "text/plain": [
       "<Axes: >"
      ]
     },
     "execution_count": 23,
     "metadata": {},
     "output_type": "execute_result"
    },
    {
     "data": {
      "image/png": "[encoded data removed]",
      "text/plain": [
       "<Figure size 640x480 with 1 Axes>"
      ]
     },
     "metadata": {},
     "output_type": "display_data"
    }
   ],
   "source": [
    "sns.boxplot(df['Strength'])"
   ]
  },
  {
   "cell_type": "code",
   "execution_count": 24,
   "id": "6b5c567e-929a-4dc5-b787-9f9cd3d1122e",
   "metadata": {},
   "outputs": [
    {
     "data": {
      "text/html": [
       "<div>\n",
       "<style scoped>\n",
       "    .dataframe tbody tr th:only-of-type {\n",
       "        vertical-align: middle;\n",
       "    }\n",
       "\n",
       "    .dataframe tbody tr th {\n",
       "        vertical-align: top;\n",
       "    }\n",
       "\n",
       "    .dataframe thead th {\n",
       "        text-align: right;\n",
       "    }\n",
       "</style>\n",
       "<table border=\"1\" class=\"dataframe\">\n",
       "  <thead>\n",
       "    <tr style=\"text-align: right;\">\n",
       "      <th></th>\n",
       "      <th>Name</th>\n",
       "      <th>Category</th>\n",
       "      <th>Dosage Form</th>\n",
       "      <th>Strength</th>\n",
       "      <th>Manufacturer</th>\n",
       "      <th>Indication</th>\n",
       "      <th>Classification</th>\n",
       "    </tr>\n",
       "  </thead>\n",
       "  <tbody>\n",
       "    <tr>\n",
       "      <th>0</th>\n",
       "      <td>0</td>\n",
       "      <td>3</td>\n",
       "      <td>1</td>\n",
       "      <td>938</td>\n",
       "      <td>16</td>\n",
       "      <td>6</td>\n",
       "      <td>0</td>\n",
       "    </tr>\n",
       "    <tr>\n",
       "      <th>1</th>\n",
       "      <td>48</td>\n",
       "      <td>7</td>\n",
       "      <td>4</td>\n",
       "      <td>337</td>\n",
       "      <td>7</td>\n",
       "      <td>4</td>\n",
       "      <td>0</td>\n",
       "    </tr>\n",
       "    <tr>\n",
       "      <th>2</th>\n",
       "      <td>36</td>\n",
       "      <td>1</td>\n",
       "      <td>5</td>\n",
       "      <td>333</td>\n",
       "      <td>11</td>\n",
       "      <td>7</td>\n",
       "      <td>1</td>\n",
       "    </tr>\n",
       "    <tr>\n",
       "      <th>3</th>\n",
       "      <td>27</td>\n",
       "      <td>4</td>\n",
       "      <td>6</td>\n",
       "      <td>362</td>\n",
       "      <td>0</td>\n",
       "      <td>5</td>\n",
       "      <td>1</td>\n",
       "    </tr>\n",
       "    <tr>\n",
       "      <th>4</th>\n",
       "      <td>8</td>\n",
       "      <td>4</td>\n",
       "      <td>7</td>\n",
       "      <td>802</td>\n",
       "      <td>19</td>\n",
       "      <td>7</td>\n",
       "      <td>0</td>\n",
       "    </tr>\n",
       "  </tbody>\n",
       "</table>\n",
       "</div>"
      ],
      "text/plain": [
       "   Name  Category  Dosage Form  Strength  Manufacturer  Indication  \\\n",
       "0     0         3            1       938            16           6   \n",
       "1    48         7            4       337             7           4   \n",
       "2    36         1            5       333            11           7   \n",
       "3    27         4            6       362             0           5   \n",
       "4     8         4            7       802            19           7   \n",
       "\n",
       "   Classification  \n",
       "0               0  \n",
       "1               0  \n",
       "2               1  \n",
       "3               1  \n",
       "4               0  "
      ]
     },
     "execution_count": 24,
     "metadata": {},
     "output_type": "execute_result"
    }
   ],
   "source": [
    "for cols in df.columns:\n",
    "    if df[cols].dtype == 'object':\n",
    "        le = LabelEncoder()\n",
    "        df[cols] = le.fit_transform(df[cols])\n",
    "\n",
    "df.head()"
   ]
  },
  {
   "cell_type": "code",
   "execution_count": 25,
   "id": "1b121d72-4f44-4840-9853-8f8e6d3de391",
   "metadata": {},
   "outputs": [],
   "source": [
    "X = df.iloc[:,:-1]\n",
    "y = df.iloc[:,-1]"
   ]
  },
  {
   "cell_type": "code",
   "execution_count": 26,
   "id": "24e85a7b-d78d-410b-b434-79d711590029",
   "metadata": {},
   "outputs": [],
   "source": [
    "X_train, X_test, y_train, y_test = train_test_split(X, y, test_size=0.2, random_state=42)"
   ]
  },
  {
   "cell_type": "code",
   "execution_count": 27,
   "id": "fb719d5e-7dbb-419a-88a6-eab75751b11b",
   "metadata": {},
   "outputs": [],
   "source": [
    "from sklearn.linear_model import LogisticRegression\n",
    "model_lr = LogisticRegression(max_iter=200)\n",
    "model_lr.fit(X_train, y_train)\n",
    "y_pred1 = model_lr.predict(X_test)"
   ]
  },
  {
   "cell_type": "code",
   "execution_count": 28,
   "id": "edb7b34e-4eab-4bb7-b7c2-9976c6490790",
   "metadata": {},
   "outputs": [],
   "source": [
    "accuracy_lr = accuracy_score(y_test, y_pred1)\n",
    "precision_lr = precision_score(y_test, y_pred1)\n",
    "recall_lr = recall_score(y_test, y_pred1)\n",
    "f1_lr = f1_score(y_test, y_pred1)\n",
    "cm_lr = confusion_matrix(y_test, y_pred1)"
   ]
  },
  {
   "cell_type": "code",
   "execution_count": 29,
   "id": "44a8ddab-1e74-483e-95bd-72c61edf0134",
   "metadata": {},
   "outputs": [
    {
     "name": "stdout",
     "output_type": "stream",
     "text": [
      "Logistic Regression:\n",
      " Accuracy: 0.4917\n",
      " Precision: 0.4933605720122574\n",
      " Recall: 0.48126743722598647\n",
      " F1 Score: 0.48723897911832953\n",
      "[[2502 2480]\n",
      " [2603 2415]]\n"
     ]
    }
   ],
   "source": [
    "print(f'Logistic Regression:\\n Accuracy: {accuracy_lr}\\n Precision: {precision_lr}\\n Recall: {recall_lr}\\n F1 Score: {f1_lr}')\n",
    "print(cm_lr)"
   ]
  },
  {
   "cell_type": "code",
   "execution_count": 30,
   "id": "34ff3927-2fd4-4254-bcf8-8492c1c73465",
   "metadata": {},
   "outputs": [],
   "source": [
    "from sklearn.tree import DecisionTreeClassifier"
   ]
  },
  {
   "cell_type": "code",
   "execution_count": 31,
   "id": "49c6a82e-8af7-4392-b8a4-04ebf3dadeac",
   "metadata": {},
   "outputs": [],
   "source": [
    "dtc = DecisionTreeClassifier()\n",
    "dtc.fit(X_train,y_train)\n",
    "y_pred2 = dtc.predict(X_test)"
   ]
  },
  {
   "cell_type": "code",
   "execution_count": 32,
   "id": "ca365e06-2c18-4beb-aa70-99ecf033a87f",
   "metadata": {},
   "outputs": [],
   "source": [
    "accuracy_dtc = accuracy_score(y_test, y_pred2)\n",
    "precision_dtc = precision_score(y_test, y_pred2)\n",
    "recall_dtc = recall_score(y_test, y_pred2)\n",
    "f1_dtc = f1_score(y_test, y_pred2)\n",
    "cm_dtc = confusion_matrix(y_test, y_pred2)"
   ]
  },
  {
   "cell_type": "code",
   "execution_count": 33,
   "id": "a50ff5bf-7996-4e5e-b7ff-ec03ecdfd51c",
   "metadata": {},
   "outputs": [
    {
     "name": "stdout",
     "output_type": "stream",
     "text": [
      "DecisionTreeClassifier:\n",
      " Accuracy: 0.4935\n",
      " Precision: 0.49531405782652044\n",
      " Recall: 0.4950179354324432\n",
      " F1 Score: 0.4951659523572212\n",
      "[[2451 2531]\n",
      " [2534 2484]]\n"
     ]
    }
   ],
   "source": [
    "print(f'DecisionTreeClassifier:\\n Accuracy: {accuracy_dtc}\\n Precision: {precision_dtc}\\n Recall: {recall_dtc}\\n F1 Score: {f1_dtc}')\n",
    "print(cm_dtc)"
   ]
  },
  {
   "cell_type": "code",
   "execution_count": 34,
   "id": "7d226dfb-d44d-4ad6-b6d4-c90e37a11c07",
   "metadata": {},
   "outputs": [],
   "source": [
    "from sklearn.ensemble import RandomForestClassifier"
   ]
  },
  {
   "cell_type": "code",
   "execution_count": 35,
   "id": "223ac777-cc1a-40cc-9876-66ab0c3484b9",
   "metadata": {},
   "outputs": [],
   "source": [
    "rfc = RandomForestClassifier()\n",
    "rfc.fit(X_train,y_train)\n",
    "y_pred3 = rfc.predict(X_test)"
   ]
  },
  {
   "cell_type": "code",
   "execution_count": 36,
   "id": "64de9baa-d797-4110-8bbe-edfd4216df0e",
   "metadata": {},
   "outputs": [],
   "source": [
    "accuracy_rfc = accuracy_score(y_test, y_pred3)\n",
    "precision_rfc = precision_score(y_test, y_pred3)\n",
    "recall_rfc = recall_score(y_test, y_pred3)\n",
    "f1_rfc = f1_score(y_test, y_pred3)\n",
    "cm_rfc = confusion_matrix(y_test, y_pred3)"
   ]
  },
  {
   "cell_type": "code",
   "execution_count": 37,
   "id": "bde8ff66-3365-4270-9ca2-7dd49888239a",
   "metadata": {},
   "outputs": [
    {
     "name": "stdout",
     "output_type": "stream",
     "text": [
      "RandomForestClassifier:\n",
      " Accuracy: 0.4943\n",
      " Precision: 0.49590937696664567\n",
      " Recall: 0.4711040255081706\n",
      " F1 Score: 0.48318855390904447\n",
      "[[2579 2403]\n",
      " [2654 2364]]\n"
     ]
    }
   ],
   "source": [
    "print(f'RandomForestClassifier:\\n Accuracy: {accuracy_rfc}\\n Precision: {precision_rfc}\\n Recall: {recall_rfc}\\n F1 Score: {f1_rfc}')\n",
    "print(cm_rfc)"
   ]
  },
  {
   "cell_type": "code",
   "execution_count": 38,
   "id": "eb8f0734-a1ff-47e5-a68d-92276d328d21",
   "metadata": {},
   "outputs": [],
   "source": [
    "from sklearn.naive_bayes import GaussianNB"
   ]
  },
  {
   "cell_type": "code",
   "execution_count": 39,
   "id": "e93e4e08-cba4-4403-9c91-106b17996f03",
   "metadata": {},
   "outputs": [],
   "source": [
    "nb = GaussianNB()\n",
    "nb.fit(X_train, y_train)\n",
    "y_pred4 = nb.predict(X_test)"
   ]
  },
  {
   "cell_type": "code",
   "execution_count": 40,
   "id": "4c7434a4-05f6-4db5-87da-861b8261c273",
   "metadata": {},
   "outputs": [],
   "source": [
    "accuracy_nb = accuracy_score(y_test, y_pred4)\n",
    "precision_nb = precision_score(y_test, y_pred4)\n",
    "recall_nb = recall_score(y_test, y_pred4)\n",
    "f1_nb = f1_score(y_test, y_pred4)\n",
    "cm_nb = confusion_matrix(y_test, y_pred4)"
   ]
  },
  {
   "cell_type": "code",
   "execution_count": 41,
   "id": "2a8dec7f-c285-4cdf-a365-326c79526421",
   "metadata": {},
   "outputs": [
    {
     "name": "stdout",
     "output_type": "stream",
     "text": [
      "NB:\n",
      " Accuracy: 0.4926\n",
      " Precision: 0.4939420164430982\n",
      " Recall: 0.45496213630928656\n",
      " F1 Score: 0.4736514522821577\n",
      "[[2643 2339]\n",
      " [2735 2283]]\n"
     ]
    }
   ],
   "source": [
    "print(f'NB:\\n Accuracy: {accuracy_nb}\\n Precision: {precision_nb}\\n Recall: {recall_nb}\\n F1 Score: {f1_nb}')\n",
    "print(cm_nb)"
   ]
  },
  {
   "cell_type": "code",
   "execution_count": 42,
   "id": "7e58ce17-3ef6-47b5-8d40-ea24e1b375e2",
   "metadata": {},
   "outputs": [],
   "source": [
    "from sklearn.neighbors import KNeighborsClassifier"
   ]
  },
  {
   "cell_type": "code",
   "execution_count": 48,
   "id": "8cccd913-9312-4a0c-9c80-777f8219226b",
   "metadata": {},
   "outputs": [],
   "source": [
    "knc = KNeighborsClassifier(n_neighbors=5)\n",
    "knc.fit(X_train, y_train)\n",
    "y_pred5 = knc.predict(X_test)"
   ]
  },
  {
   "cell_type": "code",
   "execution_count": 52,
   "id": "87382630-3e1c-4a61-8c98-2321a6ae7b83",
   "metadata": {},
   "outputs": [],
   "source": [
    "accuracy_knc = accuracy_score(y_test, y_pred5)\n",
    "precision_knc = precision_score(y_test, y_pred5)\n",
    "recall_knc = recall_score(y_test, y_pred5)\n",
    "f1_knc = f1_score(y_test, y_pred5)\n",
    "cm_knc = confusion_matrix(y_test, y_pred5)"
   ]
  },
  {
   "cell_type": "code",
   "execution_count": 53,
   "id": "67982792-1e79-4b59-b51b-5f637e66ac94",
   "metadata": {},
   "outputs": [
    {
     "name": "stdout",
     "output_type": "stream",
     "text": [
      "NB:\n",
      " Accuracy: 0.4957\n",
      " Precision: 0.4974954918853937\n",
      " Recall: 0.4948186528497409\n",
      " F1 Score: 0.4961534618843041\n",
      "[[2474 2508]\n",
      " [2535 2483]]\n"
     ]
    }
   ],
   "source": [
    "print(f'NB:\\n Accuracy: {accuracy_knc}\\n Precision: {precision_knc}\\n Recall: {recall_knc}\\n F1 Score: {f1_knc}')\n",
    "print(cm_knc)"
   ]
  },
  {
   "cell_type": "code",
   "execution_count": 47,
   "id": "a5677078-1aa8-418f-8c3e-c55c68534c85",
   "metadata": {},
   "outputs": [],
   "source": [
    "from sklearn.neighbors import NearestNeighbors"
   ]
  },
  {
   "cell_type": "code",
   "execution_count": 54,
   "id": "bd5359a3-4f2a-48ca-ae1e-181d931d3de2",
   "metadata": {},
   "outputs": [
    {
     "data": {
      "text/html": [
       "<style>#sk-container-id-1 {color: black;background-color: white;}#sk-container-id-1 pre{padding: 0;}#sk-container-id-1 div.sk-toggleable {background-color: white;}#sk-container-id-1 label.sk-toggleable__label {cursor: pointer;display: block;width: 100%;margin-bottom: 0;padding: 0.3em;box-sizing: border-box;text-align: center;}#sk-container-id-1 label.sk-toggleable__label-arrow:before {content: \"▸\";float: left;margin-right: 0.25em;color: #696969;}#sk-container-id-1 label.sk-toggleable__label-arrow:hover:before {color: black;}#sk-container-id-1 div.sk-estimator:hover label.sk-toggleable__label-arrow:before {color: black;}#sk-container-id-1 div.sk-toggleable__content {max-height: 0;max-width: 0;overflow: hidden;text-align: left;background-color: #f0f8ff;}#sk-container-id-1 div.sk-toggleable__content pre {margin: 0.2em;color: black;border-radius: 0.25em;background-color: #f0f8ff;}#sk-container-id-1 input.sk-toggleable__control:checked~div.sk-toggleable__content {max-height: 200px;max-width: 100%;overflow: auto;}#sk-container-id-1 input.sk-toggleable__control:checked~label.sk-toggleable__label-arrow:before {content: \"▾\";}#sk-container-id-1 div.sk-estimator input.sk-toggleable__control:checked~label.sk-toggleable__label {background-color: #d4ebff;}#sk-container-id-1 div.sk-label input.sk-toggleable__control:checked~label.sk-toggleable__label {background-color: #d4ebff;}#sk-container-id-1 input.sk-hidden--visually {border: 0;clip: rect(1px 1px 1px 1px);clip: rect(1px, 1px, 1px, 1px);height: 1px;margin: -1px;overflow: hidden;padding: 0;position: absolute;width: 1px;}#sk-container-id-1 div.sk-estimator {font-family: monospace;background-color: #f0f8ff;border: 1px dotted black;border-radius: 0.25em;box-sizing: border-box;margin-bottom: 0.5em;}#sk-container-id-1 div.sk-estimator:hover {background-color: #d4ebff;}#sk-container-id-1 div.sk-parallel-item::after {content: \"\";width: 100%;border-bottom: 1px solid gray;flex-grow: 1;}#sk-container-id-1 div.sk-label:hover label.sk-toggleable__label {background-color: #d4ebff;}#sk-container-id-1 div.sk-serial::before {content: \"\";position: absolute;border-left: 1px solid gray;box-sizing: border-box;top: 0;bottom: 0;left: 50%;z-index: 0;}#sk-container-id-1 div.sk-serial {display: flex;flex-direction: column;align-items: center;background-color: white;padding-right: 0.2em;padding-left: 0.2em;position: relative;}#sk-container-id-1 div.sk-item {position: relative;z-index: 1;}#sk-container-id-1 div.sk-parallel {display: flex;align-items: stretch;justify-content: center;background-color: white;position: relative;}#sk-container-id-1 div.sk-item::before, #sk-container-id-1 div.sk-parallel-item::before {content: \"\";position: absolute;border-left: 1px solid gray;box-sizing: border-box;top: 0;bottom: 0;left: 50%;z-index: -1;}#sk-container-id-1 div.sk-parallel-item {display: flex;flex-direction: column;z-index: 1;position: relative;background-color: white;}#sk-container-id-1 div.sk-parallel-item:first-child::after {align-self: flex-end;width: 50%;}#sk-container-id-1 div.sk-parallel-item:last-child::after {align-self: flex-start;width: 50%;}#sk-container-id-1 div.sk-parallel-item:only-child::after {width: 0;}#sk-container-id-1 div.sk-dashed-wrapped {border: 1px dashed gray;margin: 0 0.4em 0.5em 0.4em;box-sizing: border-box;padding-bottom: 0.4em;background-color: white;}#sk-container-id-1 div.sk-label label {font-family: monospace;font-weight: bold;display: inline-block;line-height: 1.2em;}#sk-container-id-1 div.sk-label-container {text-align: center;}#sk-container-id-1 div.sk-container {/* jupyter's `normalize.less` sets `[hidden] { display: none; }` but bootstrap.min.css set `[hidden] { display: none !important; }` so we also need the `!important` here to be able to override the default hidden behavior on the sphinx rendered scikit-learn.org. See: https://github.com/scikit-learn/scikit-learn/issues/21755 */display: inline-block !important;position: relative;}#sk-container-id-1 div.sk-text-repr-fallback {display: none;}</style><div id=\"sk-container-id-1\" class=\"sk-top-container\"><div class=\"sk-text-repr-fallback\"><pre>NearestNeighbors(metric=&#x27;euclidean&#x27;)</pre><b>In a Jupyter environment, please rerun this cell to show the HTML representation or trust the notebook. <br />On GitHub, the HTML representation is unable to render, please try loading this page with nbviewer.org.</b></div><div class=\"sk-container\" hidden><div class=\"sk-item\"><div class=\"sk-estimator sk-toggleable\"><input class=\"sk-toggleable__control sk-hidden--visually\" id=\"sk-estimator-id-1\" type=\"checkbox\" checked><label for=\"sk-estimator-id-1\" class=\"sk-toggleable__label sk-toggleable__label-arrow\">NearestNeighbors</label><div class=\"sk-toggleable__content\"><pre>NearestNeighbors(metric=&#x27;euclidean&#x27;)</pre></div></div></div></div></div>"
      ],
      "text/plain": [
       "NearestNeighbors(metric='euclidean')"
      ]
     },
     "execution_count": 54,
     "metadata": {},
     "output_type": "execute_result"
    }
   ],
   "source": [
    "# Select numerical features for kNN \n",
    "features = ['Category', 'Dosage Form', 'Strength', 'Manufacturer', 'Indication', 'Classification']\n",
    "\n",
    "# Create a kNN model\n",
    "k = 5  # Number of neighbors to consider\n",
    "knn_model = NearestNeighbors(n_neighbors=k, metric='euclidean')\n",
    "knn_model.fit(df[features])"
   ]
  },
  {
   "cell_type": "code",
   "execution_count": 55,
   "id": "a18f3d29-f8ff-47c5-962a-ae3bcc70e208",
   "metadata": {},
   "outputs": [],
   "source": [
    "# Function to recommend medicines based on kNN\n",
    "def recommend_medicines_knn(medicine_index, knn_model=knn_model, df=df, top_n=5):\n",
    "    # Get the features of the medicine at the given index\n",
    "    medicine_features = df.iloc[medicine_index][features].values.reshape(1, -1)\n",
    "    \n",
    "    # Find nearest neighbors\n",
    "    distances, indices = knn_model.kneighbors(medicine_features)\n",
    "    \n",
    "    # Extract indices of nearest neighbors (excluding the medicine itself)\n",
    "    neighbor_indices = indices[0][1:top_n+1]\n",
    "    \n",
    "    # Return recommended medicines\n",
    "    recommendations = df.iloc[neighbor_indices].copy()\n",
    "    \n",
    "    # Reverse transformation for Category and Indication columns\n",
    "    for col in ['Name', 'Category', 'Indication']:  # Adjust column names as per your actual column names\n",
    "        if col in label_encoders:\n",
    "            recommendations[col] = label_encoders[col].inverse_transform(recommendations[col])\n",
    "    \n",
    "    return recommendations"
   ]
  },
  {
   "cell_type": "code",
   "execution_count": 57,
   "id": "9b67b38e-8c8f-4484-a2e9-92e13f151b47",
   "metadata": {},
   "outputs": [],
   "source": [
    "# Initialize a dictionary to store LabelEncoder instances for each categorical column\n",
    "label_encoders = {}\n",
    "\n",
    "# Encode categorical features\n",
    "for col in df.columns:\n",
    "    if df[col].dtype == 'object':  # Encode only categorical variables\n",
    "        label_encoders[col] = LabelEncoder()\n",
    "        df[col] = label_encoders[col].fit_transform(df[col])"
   ]
  },
  {
   "cell_type": "code",
   "execution_count": 58,
   "id": "e2155ced-2154-4ac0-a559-3d9573b48621",
   "metadata": {},
   "outputs": [
    {
     "name": "stdout",
     "output_type": "stream",
     "text": [
      "Input Medicine Details (Index 0):\n",
      "Name          0\n",
      "Category      3\n",
      "Indication    6\n",
      "Name: 0, dtype: int32\n",
      "       Name  Category  Indication\n",
      "31560    41         4           7\n",
      "27223    28         3           4\n",
      "16678    59         3           7\n",
      "18485    35         2           5\n"
     ]
    },
    {
     "name": "stderr",
     "output_type": "stream",
     "text": [
      "C:\\Users\\richi\\anaconda3\\Lib\\site-packages\\sklearn\\base.py:439: UserWarning: X does not have valid feature names, but NearestNeighbors was fitted with feature names\n",
      "  warnings.warn(\n"
     ]
    }
   ],
   "source": [
    "# Example usage: Recommend medicines similar to a specific medicine (by index)\n",
    "# Replace 'medicine_index' with the index of the medicine you want to find recommendations for\n",
    "\n",
    "medicine_index = 0 # Change here\n",
    "input_details = df.iloc[medicine_index][['Name', 'Category', 'Indication']]\n",
    "\n",
    "# Decode categorical columns\n",
    "for col in ['Name', 'Category', 'Indication']:\n",
    "    if col in label_encoders:\n",
    "        input_details[col] = label_encoders[col].inverse_transform([input_details[col]])[0]\n",
    "\n",
    "# Print input medicine details\n",
    "print(f\"Input Medicine Details (Index {medicine_index}):\")\n",
    "print(input_details)\n",
    "\n",
    "recommendations = recommend_medicines_knn(medicine_index)\n",
    "\n",
    "print(recommendations[['Name', 'Category', 'Indication']])"
   ]
  },
  {
   "cell_type": "code",
   "execution_count": null,
   "id": "3aa2265e-1810-4878-868e-aebaabc982a5",
   "metadata": {},
   "outputs": [],
   "source": []
  }
 ],
 "metadata": {
  "kernelspec": {
   "display_name": "Python 3 (ipykernel)",
   "language": "python",
   "name": "python3"
  },
  "language_info": {
   "codemirror_mode": {
    "name": "ipython",
    "version": 3
   },
   "file_extension": ".py",
   "mimetype": "text/x-python",
   "name": "python",
   "nbconvert_exporter": "python",
   "pygments_lexer": "ipython3",
   "version": "3.11.7"
  }
 },
 "nbformat": 4,
 "nbformat_minor": 5
}
